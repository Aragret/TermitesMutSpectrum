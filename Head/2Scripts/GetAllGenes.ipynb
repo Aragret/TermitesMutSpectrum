{
 "cells": [
  {
   "cell_type": "code",
   "execution_count": 1,
   "metadata": {},
   "outputs": [],
   "source": [
    "from Bio import SeqIO\n",
    "import pandas as pd"
   ]
  },
  {
   "cell_type": "code",
   "execution_count": 2,
   "metadata": {},
   "outputs": [],
   "source": [
    "records = list(SeqIO.parse(\"../../Body/1Raw/RefSeqs.gb\", \"genbank\"))"
   ]
  },
  {
   "cell_type": "code",
   "execution_count": 3,
   "metadata": {},
   "outputs": [],
   "source": [
    "species = [\"_\".join(i.annotations['organism'].split()) for i in records]"
   ]
  },
  {
   "cell_type": "code",
   "execution_count": 4,
   "metadata": {},
   "outputs": [
    {
     "name": "stdout",
     "output_type": "stream",
     "text": [
      "type: CDS\n",
      "location: [221:1259](+)\n",
      "qualifiers:\n",
      "    Key: codon_start, Value: ['1']\n",
      "    Key: db_xref, Value: ['GeneID:40345268']\n",
      "    Key: gene, Value: ['ND2']\n",
      "    Key: locus_tag, Value: ['FHM55_mgp13']\n",
      "    Key: product, Value: ['NADH dehydrogenase subunit 2']\n",
      "    Key: protein_id, Value: ['YP_009642859.1']\n",
      "    Key: transl_table, Value: ['5']\n",
      "    Key: translation, Value: ['MPSNSTKILLLTTLVSGVLVAVSSNSWFGAWMGLEVNLMSFIPLMSNTKNMYNTEASLKYFIVQVLASATLLFMVVMKTLTEDLFTLTFMETSYTTMIICTPLMLKSGAAPFHWWFPGVMEGLSWENCGLLMTIQKAAPLMLMSYLIEINAFTSSIILASTIMGAIGGLNQTSMRKIMTYSSINHTGWMLAALIMGDNLWLTYFMIYSTLVLTVLSTIKLSSVSFINQTLLTNKEAMLTKFMMFTSLLSLGGLPPFLGFLPKWIVIQEMITNKMTPMATIMVITSLITLYYYLKISYSSFMILSEEPKWNTKSHKNKTAKKISAMIMSSISLTGMLMCSIMAGLI']\n",
      "\n",
      "type: CDS\n",
      "location: [1484:3029](+)\n",
      "qualifiers:\n",
      "    Key: codon_start, Value: ['1']\n",
      "    Key: db_xref, Value: ['GeneID:40345272']\n",
      "    Key: gene, Value: ['COX1']\n",
      "    Key: locus_tag, Value: ['FHM55_mgp12']\n",
      "    Key: product, Value: ['cytochrome c oxidase subunit I']\n",
      "    Key: protein_id, Value: ['YP_009642860.1']\n",
      "    Key: transl_table, Value: ['5']\n",
      "    Key: translation, Value: ['MINRWLFSTNHKDIGTLYFVFGAWSGMVGTSLSMLIRTELGQPGSLIGDDQIYNVIVTAHAFVMIFFMVMPIMIGGFGNWLVPLMLGAPDMAFPRMNNMSFWLLPPSLTLLLTSSTVESGAGTGWTVYPPLASGIAHAGASVDLAIFSLHLAGVSSILGAVNFISTTINMKPKNMKPERIPLFVWSVAITALLLLLSLPVLAGAITMLLTDRNLNTSFFDPAGGGDPILYQHLFWFFGHPEVYILILPGFGMISHIICHESGKKEAFGNLGMIFAMLAIGLLGFVVWAHHMFTVGMDVDTRAYFTSATMIIAVPTGIKIFSWLATMYGSQLTYSPACLWAMGFVFLFTMGGLTGVVLANSSIDIVLHDTYYVVAHFHYVLSMGAVFAIMAGFIQWFPLFTGLTMNPKWLKAQFAVMFTGVNMTFFPQHFLGLAGMPRRYSDYPDAYTTWNIISSMGSTISFVSVMMFLFIIWESITSNRQILFPTQTSNSIEWMQNFPPAEHSYSELPTISVIN']\n",
      "\n",
      "type: CDS\n",
      "location: [3112:3797](+)\n",
      "qualifiers:\n",
      "    Key: codon_start, Value: ['1']\n",
      "    Key: db_xref, Value: ['GeneID:40345274']\n",
      "    Key: gene, Value: ['COX2']\n",
      "    Key: locus_tag, Value: ['FHM55_mgp11']\n",
      "    Key: note, Value: [\"TAA stop codon is completed by the addition of 3' A residues to the mRNA\"]\n",
      "    Key: product, Value: ['cytochrome c oxidase subunit II']\n",
      "    Key: protein_id, Value: ['YP_009642861.1']\n",
      "    Key: transl_except, Value: ['(pos:3797,aa:TERM)']\n",
      "    Key: transl_table, Value: ['5']\n",
      "    Key: translation, Value: ['MTTWLNMSLQDGASPIMEQLIFFHDHTLMIMLMIITTVMYMMTTLLWNKHTSRFMLEGQLIETTWTIAPAIILVFIAMPSLRLLYLMDEIHNPAMTLKAVGHQWYWSYEYSDFTKLEFDSYMIPQEENQASTFRLLDTDNRIVLPMNSPIRLVVTAADVLHSWTIPSLGVKTDATPGRLNQTSFSINHPGILYGQCSEICGANHSFMLITIESVSANHFINWVSSLSE']\n",
      "\n",
      "type: CDS\n",
      "location: [3935:4094](+)\n",
      "qualifiers:\n",
      "    Key: codon_start, Value: ['1']\n",
      "    Key: db_xref, Value: ['GeneID:40345277']\n",
      "    Key: gene, Value: ['ATP8']\n",
      "    Key: locus_tag, Value: ['FHM55_mgp10']\n",
      "    Key: product, Value: ['ATP synthase F0 subunit 8']\n",
      "    Key: protein_id, Value: ['YP_009642862.1']\n",
      "    Key: transl_table, Value: ['5']\n",
      "    Key: translation, Value: ['MPQMMPMEWMILYITFLATLLMFNIMNYFMQSPNKKSTTKHNINVNNMNWKW']\n",
      "\n",
      "type: CDS\n",
      "location: [4090:4768](+)\n",
      "qualifiers:\n",
      "    Key: codon_start, Value: ['1']\n",
      "    Key: db_xref, Value: ['GeneID:40345278']\n",
      "    Key: gene, Value: ['ATP6']\n",
      "    Key: locus_tag, Value: ['FHM55_mgp09']\n",
      "    Key: product, Value: ['ATP synthase F0 subunit 6']\n",
      "    Key: protein_id, Value: ['YP_009642863.1']\n",
      "    Key: transl_table, Value: ['5']\n",
      "    Key: translation, Value: ['MSNLFSIFDPTTEINSLPMNWTSTMVGLLLIPTSIWLTPSRNSMALNLLMNKLHTEMKTILSKGDQNKGNSFIFTSLFLMILMNNFLGLFPYIFTSTSHLTLTLTLALPLWMTFMLFGWIKNTNHMFEHLVPQGTPTMLMPFMVIIETISNLIRPGTLAVRLTANMIAGHLLLTLLGNNGPTMNHTLLAVLITAQILLLILESAVAIIQSYVFAILSTLYSSEVN']\n",
      "\n",
      "type: CDS\n",
      "location: [4767:5556](+)\n",
      "qualifiers:\n",
      "    Key: codon_start, Value: ['1']\n",
      "    Key: db_xref, Value: ['GeneID:40345279']\n",
      "    Key: gene, Value: ['COX3']\n",
      "    Key: locus_tag, Value: ['FHM55_mgp08']\n",
      "    Key: product, Value: ['cytochrome c oxidase subunit III']\n",
      "    Key: protein_id, Value: ['YP_009642864.1']\n",
      "    Key: transl_table, Value: ['5']\n",
      "    Key: translation, Value: ['MSTQENHSFHMVNKSPWPLTGAIGAMVTLMGLIKWFHQYNNSLLGVGTVITLLTMIQWWRDVTREGTYQGLHTKTVTSGLRWGMILFIISEVLFFASFFWAFFHSSLSPTIELGSAWPPTGIQPFNPMQIPLLNTAILLASGVTVTWAHHGLLENNFSQATQGLFFTVLLGLYFTALQAYEYIEAPFTIADSAYGSTFFMATGFHGLHVIIGTTFLTTCLLRQTTLHFSSNHHFGFEAAAWYWHFVDVVWLFLYISIYWWGS']\n",
      "\n",
      "type: CDS\n",
      "location: [5628:5982](+)\n",
      "qualifiers:\n",
      "    Key: codon_start, Value: ['1']\n",
      "    Key: db_xref, Value: ['GeneID:40345281']\n",
      "    Key: gene, Value: ['ND3']\n",
      "    Key: locus_tag, Value: ['FHM55_mgp07']\n",
      "    Key: product, Value: ['NADH dehydrogenase subunit 3']\n",
      "    Key: protein_id, Value: ['YP_009642865.1']\n",
      "    Key: transl_table, Value: ['5']\n",
      "    Key: translation, Value: ['MSTVMTMAAMTITISTIVMMMATLISKKTNEEREKSSPFECGFDPKNSARLPFSSRFFLVAVIFMIFDVEIALLLPMPITMTTSNMSSWMLISSAFLLILIIGLYHEWNQGSLEWSN']\n",
      "\n",
      "type: CDS\n",
      "location: [6382:8108](-)\n",
      "qualifiers:\n",
      "    Key: codon_start, Value: ['1']\n",
      "    Key: db_xref, Value: ['GeneID:40345288']\n",
      "    Key: gene, Value: ['ND5']\n",
      "    Key: locus_tag, Value: ['FHM55_mgp06']\n",
      "    Key: note, Value: [\"TAA stop codon is completed by the addition of 3' A residues to the mRNA\"]\n",
      "    Key: product, Value: ['NADH dehydrogenase subunit 5']\n",
      "    Key: protein_id, Value: ['YP_009642866.1']\n",
      "    Key: transl_except, Value: ['(pos:complement(6383),aa:TERM)']\n",
      "    Key: transl_table, Value: ['5']\n",
      "    Key: translation, Value: ['MMPIPICFASFVFLFGLGWFCCFWGVYFVLCDLVYFVDWGIVGLNSGSVVMTFLFDWMSLLFLGFVFIISSLVILYSDDYMYGDSNIFRFIMLVLLFVVSMLFLIISPNMISILLGWDGLGLVSYCLVIYYQNVKSYGAGMLTVLSNRIGDVALLMVITWMINFGSWNFIYYLEFLAGSAEMELISFLVVLAAMTKSAQIPFSSWLPAAMAAPTPVSALVHSSTLVTAGVYLLIRFSPSFSYLLNAILLLVSALTMFMAGLGANFEYDLSKIIALSTLSQLGLMIMTVSVGLSSLAFFHLLTHALFKALLFMCAGGVIHSMGDSQDIRFMGGLSVYMPFTSSCLMVSSFALCGMPFLAGFYSSDFILEMISMSYVNVFGFLLLFVSTGLTVCYSFRLFYFVLCGDFNFVSLHSMVDTNYNMVMGMIGLLVLSVLGGGALMWLICPTPSVICLPYHLKFLTFFSVGLGGFIGYEMAGFNFGDYLLSMCYYRVSSFSGSMWFMPFFSTYGVSFGPLGFGYSSMRVLDSGWMEYFGGQGLYWFLFNLGSVNQWVQHSSLKLFLGFFVMWTVLLLVLIY']\n",
      "\n",
      "type: CDS\n",
      "location: [8186:9527](-)\n",
      "qualifiers:\n",
      "    Key: codon_start, Value: ['1']\n",
      "    Key: db_xref, Value: ['GeneID:40345290']\n",
      "    Key: gene, Value: ['ND4']\n",
      "    Key: locus_tag, Value: ['FHM55_mgp05']\n",
      "    Key: product, Value: ['NADH dehydrogenase subunit 4']\n",
      "    Key: protein_id, Value: ['YP_009642867.1']\n",
      "    Key: transl_table, Value: ['5']\n",
      "    Key: translation, Value: ['MLSFLCFLFFLTPLCVFPGSWWLICSLLFAVSFVYFFSFPYFFCWGNLSHFFGCDVISYGLVLLSLWICVLMVLASKSVFRSGYFSGLFLFVVIFLVVMLYCTFSSVSLLSFYIFFESSLIPTLLLILGWGYQPERVQAGIYLLFYTLLASLPLLIGILFIYGSLGSLFLCLLRGGVSVSGLFYVCMVLAFLVSMPMFLVHLWLPKAHVEAPVSGSMILAGVLLKLGGYGLLRVFPVLFKFGFSIGLVWVVLSLVGGLLVSLFCMRQTDLKSLIAYSSVAHMSMVIGGIMTMSYWGACSSLALMIAHGLCSSGLFCLSNISYERFGSRSLLINSGLVNLMPSMAMWWFLLSACNMAAPPSLNLLGEIGLLSGLVAWSWYLMFVLVFLSFFGAAYTLYMYSYSQHGALFSGLYSCSLGYVREFALLFLHWFPLNLVILSVDLTIFWM']\n",
      "\n",
      "type: CDS\n",
      "location: [9520:9808](-)\n",
      "qualifiers:\n",
      "    Key: codon_start, Value: ['1']\n",
      "    Key: db_xref, Value: ['GeneID:40345291']\n",
      "    Key: gene, Value: ['ND4L']\n",
      "    Key: locus_tag, Value: ['FHM55_mgp04']\n",
      "    Key: product, Value: ['NADH dehydrogenase subunit 4L']\n",
      "    Key: protein_id, Value: ['YP_009642868.1']\n",
      "    Key: transl_table, Value: ['5']\n",
      "    Key: translation, Value: ['MSMCFYLFVLYFCGVWSSSSSRKHLLVTLLSLEFIVLVLYLSVYFYLCGLNYSLFFVVYFLVFSVCEGSLGLSILVSMIRSHGNDYFRSYSVLQC']\n",
      "\n",
      "type: CDS\n",
      "location: [9949:10441](+)\n",
      "qualifiers:\n",
      "    Key: codon_start, Value: ['1']\n",
      "    Key: db_xref, Value: ['GeneID:40345294']\n",
      "    Key: gene, Value: ['ND6']\n",
      "    Key: locus_tag, Value: ['FHM55_mgp03']\n",
      "    Key: product, Value: ['NADH dehydrogenase subunit 6']\n",
      "    Key: protein_id, Value: ['YP_009642869.1']\n",
      "    Key: transl_table, Value: ['5']\n",
      "    Key: translation, Value: ['MTKLLMSTSMMTSMMSTQMKHPLAMGMMLLLQTMMTCMISGTMYKSFWFSYILFMIMIGGMLVLFMYMTSLASNEMFYPTSKMMMTAMVLSPTMMYLMPDQTNNKEMNTQESTTEDEIMMTTTTMYNQITGMMTIMLVMYMLLTLIVVVNIINISSGPLRHTN']\n",
      "\n",
      "type: CDS\n",
      "location: [10440:11571](+)\n",
      "qualifiers:\n",
      "    Key: codon_start, Value: ['1']\n",
      "    Key: db_xref, Value: ['GeneID:40345295']\n",
      "    Key: gene, Value: ['CYTB']\n",
      "    Key: locus_tag, Value: ['FHM55_mgp02']\n",
      "    Key: product, Value: ['cytochrome b']\n",
      "    Key: protein_id, Value: ['YP_009642870.1']\n",
      "    Key: transl_table, Value: ['5']\n",
      "    Key: translation, Value: ['MNKPMRNSHPLIKIANGALVDLPTPSTISGWWNFGSLMGICLIMQIMTGLFLAMHYCPDINMAFSSVSHICRDVNNGWLLRTLHANGASMFFVCIFMHTGRNLYYGSYKFTHTWSVGVLLLILTMATGFLGYVLPWGQMSFWGATVITNLLSAVPYMGQELVQWVWGGFAVDNATLTRFFALHFLMPFAIAAMTIVHLLFLHQTGSNNPLGLNKNTDKIPFHPYFTASDIVGFTITIMALSTVTLSEPYILADPDNFTPANPLVTPVHIQPEWYFLFAYAILRSIPNKLGGVIALAMSILILFVMPVNKSKFRGTQFYPINQVLFWTMTNTVILLTWIGARPVEEPYILTGQILTVLYFQYFISKPTMTKLWDKII']\n",
      "\n",
      "type: CDS\n",
      "location: [11664:12606](-)\n",
      "qualifiers:\n",
      "    Key: codon_start, Value: ['1']\n",
      "    Key: db_xref, Value: ['GeneID:40345297']\n",
      "    Key: gene, Value: ['ND1']\n",
      "    Key: locus_tag, Value: ['FHM55_mgp01']\n",
      "    Key: product, Value: ['NADH dehydrogenase subunit 1']\n",
      "    Key: protein_id, Value: ['YP_009642871.1']\n",
      "    Key: transl_table, Value: ['5']\n",
      "    Key: translation, Value: ['MLGYLFFVVIFLLLILFVMVGVAFLTLLERSVLGYIHIRSGPNKVGFVGVLQPFSDAISLFSSEQYFPLVSNYLVYYFSPVFGLFLSLLVWLLIPYLSGFISFELGLLFFLACTSLGVYTVMVAGWSSNSGYSLLGGLRALAQTISYEVSLAFILLSFVVLICSYNLIYFYLFQFYIWLIFFSFPLSFVWFISCLAETNRTPFDFAEGESELVSGFNVEYGGGGFALIFLAEYASILFMSLLFCVIFLGSDLYSLFFYISLSFVSFLFIWVRGTLPRFRYDSLMYLAWSSFLPLSLNYLLFFVGVSVFIFSLL']\n",
      "\n"
     ]
    }
   ],
   "source": [
    "for feature in records[0].features:\n",
    "    if feature.type == \"CDS\":\n",
    "#         print(feature.location.extract(records[0].seq))\n",
    "        print(feature)\n",
    "#         print(str(feature.qualifiers['translation']))"
   ]
  },
  {
   "cell_type": "code",
   "execution_count": 5,
   "metadata": {},
   "outputs": [],
   "source": [
    "genes = []\n",
    "amino = []\n",
    "species = []\n",
    "gene_names = []\n",
    "\n",
    "for record in records:\n",
    "    for feature in record.features:\n",
    "        if feature.type == \"CDS\":\n",
    "            species.append(\"_\".join(record.annotations['organism'].split()))\n",
    "            genes.append(str(feature.location.extract(records[0].seq)))\n",
    "            amino.append(str(feature.qualifiers['translation']))\n",
    "            try:\n",
    "                gene_names.append(feature.qualifiers['gene'])\n",
    "            except:\n",
    "                gene_names.append(feature.qualifiers['product'])"
   ]
  },
  {
   "cell_type": "code",
   "execution_count": 6,
   "metadata": {},
   "outputs": [
    {
     "data": {
      "text/plain": [
       "(2561, 2561)"
      ]
     },
     "execution_count": 6,
     "metadata": {},
     "output_type": "execute_result"
    }
   ],
   "source": [
    "len(genes), len(gene_names)"
   ]
  },
  {
   "cell_type": "code",
   "execution_count": 7,
   "metadata": {},
   "outputs": [
    {
     "data": {
      "text/plain": [
       "2561"
      ]
     },
     "execution_count": 7,
     "metadata": {},
     "output_type": "execute_result"
    }
   ],
   "source": [
    "len(amino)"
   ]
  },
  {
   "cell_type": "code",
   "execution_count": 8,
   "metadata": {},
   "outputs": [
    {
     "data": {
      "text/plain": [
       "2561"
      ]
     },
     "execution_count": 8,
     "metadata": {},
     "output_type": "execute_result"
    }
   ],
   "source": [
    "len(species)"
   ]
  },
  {
   "cell_type": "code",
   "execution_count": 9,
   "metadata": {},
   "outputs": [],
   "source": [
    "data = pd.DataFrame({'Species':species, 'Gene':gene_names, 'NuclSeq':genes, 'AminoSeq':amino})"
   ]
  },
  {
   "cell_type": "code",
   "execution_count": 10,
   "metadata": {},
   "outputs": [
    {
     "data": {
      "text/html": [
       "<div>\n",
       "<style scoped>\n",
       "    .dataframe tbody tr th:only-of-type {\n",
       "        vertical-align: middle;\n",
       "    }\n",
       "\n",
       "    .dataframe tbody tr th {\n",
       "        vertical-align: top;\n",
       "    }\n",
       "\n",
       "    .dataframe thead th {\n",
       "        text-align: right;\n",
       "    }\n",
       "</style>\n",
       "<table border=\"1\" class=\"dataframe\">\n",
       "  <thead>\n",
       "    <tr style=\"text-align: right;\">\n",
       "      <th></th>\n",
       "      <th>Species</th>\n",
       "      <th>Gene</th>\n",
       "      <th>NuclSeq</th>\n",
       "      <th>AminoSeq</th>\n",
       "    </tr>\n",
       "  </thead>\n",
       "  <tbody>\n",
       "    <tr>\n",
       "      <th>0</th>\n",
       "      <td>Reticulitermes_leptomandibularis</td>\n",
       "      <td>[ND2]</td>\n",
       "      <td>ATGCCCAGTAACTCAACCAAAATCCTATTACTAACTACGCTAGTAA...</td>\n",
       "      <td>['MPSNSTKILLLTTLVSGVLVAVSSNSWFGAWMGLEVNLMSFIPL...</td>\n",
       "    </tr>\n",
       "    <tr>\n",
       "      <th>1</th>\n",
       "      <td>Reticulitermes_leptomandibularis</td>\n",
       "      <td>[COX1]</td>\n",
       "      <td>ATTATCAACCGATGACTATTCTCAACAAATCACAAAGACATTGGAA...</td>\n",
       "      <td>['MINRWLFSTNHKDIGTLYFVFGAWSGMVGTSLSMLIRTELGQPG...</td>\n",
       "    </tr>\n",
       "    <tr>\n",
       "      <th>2</th>\n",
       "      <td>Reticulitermes_leptomandibularis</td>\n",
       "      <td>[COX2]</td>\n",
       "      <td>ATGACAACATGATTAAACATAAGACTACAAGACGGAGCATCACCCA...</td>\n",
       "      <td>['MTTWLNMSLQDGASPIMEQLIFFHDHTLMIMLMIITTVMYMMTT...</td>\n",
       "    </tr>\n",
       "    <tr>\n",
       "      <th>3</th>\n",
       "      <td>Reticulitermes_leptomandibularis</td>\n",
       "      <td>[ATP8]</td>\n",
       "      <td>ATACCACAAATAATACCTATAGAATGAATAATCCTATATATTACAT...</td>\n",
       "      <td>['MPQMMPMEWMILYITFLATLLMFNIMNYFMQSPNKKSTTKHNIN...</td>\n",
       "    </tr>\n",
       "    <tr>\n",
       "      <th>4</th>\n",
       "      <td>Reticulitermes_leptomandibularis</td>\n",
       "      <td>[ATP6]</td>\n",
       "      <td>ATAAGAAACCTATTCTCAATCTTTGATCCAACAACAGAAATCAATA...</td>\n",
       "      <td>['MSNLFSIFDPTTEINSLPMNWTSTMVGLLLIPTSIWLTPSRNSM...</td>\n",
       "    </tr>\n",
       "  </tbody>\n",
       "</table>\n",
       "</div>"
      ],
      "text/plain": [
       "                            Species    Gene  \\\n",
       "0  Reticulitermes_leptomandibularis   [ND2]   \n",
       "1  Reticulitermes_leptomandibularis  [COX1]   \n",
       "2  Reticulitermes_leptomandibularis  [COX2]   \n",
       "3  Reticulitermes_leptomandibularis  [ATP8]   \n",
       "4  Reticulitermes_leptomandibularis  [ATP6]   \n",
       "\n",
       "                                             NuclSeq  \\\n",
       "0  ATGCCCAGTAACTCAACCAAAATCCTATTACTAACTACGCTAGTAA...   \n",
       "1  ATTATCAACCGATGACTATTCTCAACAAATCACAAAGACATTGGAA...   \n",
       "2  ATGACAACATGATTAAACATAAGACTACAAGACGGAGCATCACCCA...   \n",
       "3  ATACCACAAATAATACCTATAGAATGAATAATCCTATATATTACAT...   \n",
       "4  ATAAGAAACCTATTCTCAATCTTTGATCCAACAACAGAAATCAATA...   \n",
       "\n",
       "                                            AminoSeq  \n",
       "0  ['MPSNSTKILLLTTLVSGVLVAVSSNSWFGAWMGLEVNLMSFIPL...  \n",
       "1  ['MINRWLFSTNHKDIGTLYFVFGAWSGMVGTSLSMLIRTELGQPG...  \n",
       "2  ['MTTWLNMSLQDGASPIMEQLIFFHDHTLMIMLMIITTVMYMMTT...  \n",
       "3  ['MPQMMPMEWMILYITFLATLLMFNIMNYFMQSPNKKSTTKHNIN...  \n",
       "4  ['MSNLFSIFDPTTEINSLPMNWTSTMVGLLLIPTSIWLTPSRNSM...  "
      ]
     },
     "execution_count": 10,
     "metadata": {},
     "output_type": "execute_result"
    }
   ],
   "source": [
    "data.head()"
   ]
  },
  {
   "cell_type": "code",
   "execution_count": 11,
   "metadata": {},
   "outputs": [],
   "source": [
    "data.to_csv('../../Body/2Derived/AllGenes.csv', sep='\\t')"
   ]
  },
  {
   "cell_type": "code",
   "execution_count": null,
   "metadata": {},
   "outputs": [],
   "source": []
  },
  {
   "cell_type": "code",
   "execution_count": null,
   "metadata": {},
   "outputs": [],
   "source": []
  }
 ],
 "metadata": {
  "kernelspec": {
   "display_name": "Python 3",
   "language": "python",
   "name": "python3"
  },
  "language_info": {
   "codemirror_mode": {
    "name": "ipython",
    "version": 3
   },
   "file_extension": ".py",
   "mimetype": "text/x-python",
   "name": "python",
   "nbconvert_exporter": "python",
   "pygments_lexer": "ipython3",
   "version": "3.7.1"
  }
 },
 "nbformat": 4,
 "nbformat_minor": 2
}
